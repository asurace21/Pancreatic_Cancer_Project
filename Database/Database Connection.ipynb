{
 "cells": [
  {
   "cell_type": "code",
   "execution_count": 1,
   "id": "3109cdeb",
   "metadata": {},
   "outputs": [],
   "source": [
    "import sqlalchemy\n",
    "from sqlalchemy.ext.automap import automap_base\n",
    "from sqlalchemy.orm import session, sessionmaker\n",
    "from sqlalchemy import create_engine, func\n",
    "import pandas as pd"
   ]
  },
  {
   "cell_type": "code",
   "execution_count": 2,
   "id": "f8e9c136",
   "metadata": {},
   "outputs": [],
   "source": [
    "from config import password\n",
    "passwrd = password"
   ]
  },
  {
   "cell_type": "code",
   "execution_count": 3,
   "id": "7a7fdc7d",
   "metadata": {},
   "outputs": [],
   "source": [
    "DATABASE_URL = 'postgresql://postgres:' + passwrd + '@localhost:5432/Pancreatic_Cancer'\n",
    "engine = create_engine(DATABASE_URL)"
   ]
  },
  {
   "cell_type": "code",
   "execution_count": 4,
   "id": "0e1b07ff",
   "metadata": {},
   "outputs": [],
   "source": [
    "Base = automap_base()"
   ]
  },
  {
   "cell_type": "code",
   "execution_count": 5,
   "id": "5a39f972",
   "metadata": {},
   "outputs": [],
   "source": [
    "Base.prepare(engine, reflect=True)"
   ]
  },
  {
   "cell_type": "code",
   "execution_count": 6,
   "id": "8177fe77",
   "metadata": {},
   "outputs": [
    {
     "data": {
      "text/plain": [
       "['markers']"
      ]
     },
     "execution_count": 6,
     "metadata": {},
     "output_type": "execute_result"
    }
   ],
   "source": [
    "Base.classes.keys()"
   ]
  },
  {
   "cell_type": "code",
   "execution_count": 7,
   "id": "5c84e861",
   "metadata": {},
   "outputs": [],
   "source": [
    "Session = sessionmaker(bind=engine)\n",
    "session = Session()"
   ]
  },
  {
   "cell_type": "code",
   "execution_count": 8,
   "id": "d1f72266",
   "metadata": {},
   "outputs": [
    {
     "name": "stdout",
     "output_type": "stream",
     "text": [
      "[('F', '1', None, None), ('F', '1', None, None), ('M', '1', None, None), ('M', '1', None, None), ('M', '1', None, None), ('M', '1', None, None), ('M', '1', None, None), ('F', '1', None, None), ('F', '1', None, None), ('F', '1', None, None), ('F', '1', None, None), ('M', '1', None, None), ('F', '1', None, None), ('M', '1', None, None), ('F', '1', None, None), ('F', '1', None, None), ('F', '1', None, None), ('F', '1', None, None), ('M', '1', None, None), ('F', '1', None, None), ('F', '1', None, None), ('F', '1', None, None), ('M', '1', None, None), ('F', '1', None, None), ('M', '1', None, None), ('M', '1', None, None), ('M', '1', None, None), ('M', '1', None, None), ('M', '1', None, None), ('M', '1', None, None), ('F', '1', None, None), ('F', '1', None, None), ('F', '1', None, None), ('F', '1', None, None), ('F', '1', None, None), ('F', '1', None, None), ('F', '1', None, None), ('F', '1', None, None), ('F', '1', None, None), ('F', '1', None, None), ('F', '1', None, None), ('F', '1', None, None), ('F', '1', None, None), ('F', '1', None, None), ('M', '1', None, None), ('F', '1', None, None), ('F', '1', None, None), ('M', '1', None, None), ('M', '1', None, None), ('F', '1', None, None), ('F', '1', None, None), ('F', '1', None, None), ('F', '1', None, None), ('M', '1', None, None), ('F', '1', None, None), ('M', '1', None, None), ('F', '1', None, None), ('M', '1', None, None), ('F', '1', None, None), ('F', '1', None, None), ('F', '1', None, None), ('F', '1', None, None), ('F', '1', None, None), ('F', '1', None, None), ('F', '1', None, None), ('F', '1', None, None), ('F', '1', None, None), ('M', '1', None, None), ('F', '1', None, None), ('M', '1', None, None), ('F', '1', None, None), ('F', '1', None, None), ('F', '1', None, None), ('F', '1', None, None), ('F', '1', None, None), ('F', '1', None, None), ('F', '1', None, None), ('F', '1', None, None), ('M', '1', None, None), ('F', '1', None, None), ('F', '1', None, None), ('M', '1', None, None), ('F', '1', None, None), ('F', '1', None, None), ('F', '1', None, None), ('M', '1', None, None), ('M', '1', None, None), ('M', '1', None, None), ('F', '1', None, None), ('F', '1', None, None), ('F', '1', None, None), ('F', '1', None, None), ('M', '1', None, None), ('F', '1', None, None), ('F', '1', None, None), ('F', '1', None, None), ('F', '1', None, None), ('M', '1', None, None), ('F', '1', None, None), ('F', '1', None, None), ('F', '1', None, None), ('F', '1', None, None), ('M', '1', None, None), ('F', '1', None, None), ('M', '1', None, None), ('M', '1', None, None), ('F', '1', None, None), ('F', '1', None, None), ('M', '1', None, None), ('M', '1', None, None), ('M', '1', None, None), ('M', '1', None, None), ('F', '1', None, None), ('F', '1', None, None), ('M', '1', None, None), ('M', '1', None, None), ('M', '1', None, None), ('M', '1', None, None), ('M', '1', None, None), ('M', '1', None, None), ('M', '1', None, None), ('M', '1', None, None), ('M', '1', None, None), ('M', '1', None, None), ('F', '1', None, None), ('F', '1', None, None), ('M', '1', None, None), ('F', '1', None, None), ('M', '1', None, None), ('M', '1', None, None), ('M', '1', None, None), ('M', '1', None, None), ('M', '1', None, None), ('M', '1', None, None), ('M', '1', None, None), ('F', '1', None, None), ('F', '1', None, None), ('F', '1', None, None), ('M', '1', None, None), ('F', '1', None, None), ('M', '1', None, None), ('F', '1', None, None), ('F', '1', None, None), ('F', '1', None, None), ('F', '1', None, None), ('F', '1', None, None), ('F', '1', None, None), ('M', '1', None, None), ('F', '1', None, None), ('F', '1', None, None), ('F', '1', None, None), ('M', '1', None, None), ('F', '1', None, None), ('F', '1', None, None), ('F', '1', None, None), ('F', '1', None, None), ('F', '1', None, None), ('F', '1', None, None), ('F', '1', None, None), ('M', '1', None, None), ('F', '1', None, None), ('M', '1', None, None), ('M', '1', None, None), ('M', '1', None, None), ('M', '1', None, None), ('F', '1', None, None), ('F', '1', None, None), ('F', '1', None, None), ('F', '1', None, None), ('M', '1', None, None), ('M', '1', None, None), ('F', '1', None, None), ('M', '1', None, None), ('M', '1', None, None), ('F', '1', None, None), ('F', '1', None, None), ('F', '1', None, None), ('F', '1', None, None), ('F', '1', None, None), ('F', '1', None, None), ('F', '1', None, None), ('F', '1', None, None), ('F', '1', None, None), ('F', '2', None, 'Abdominal Pain '), ('F', '2', None, 'Abdominal Pain '), ('F', '2', None, 'Abdominal Pain '), ('F', '2', None, 'Abdominal Pain '), ('F', '2', None, 'Abdominal Pain '), ('M', '2', None, 'Abdominal Pain '), ('M', '2', None, 'Biliary Stricture (Secondary to Stent) '), ('F', '2', None, 'Cholecystitis'), ('F', '2', None, 'Cholecystitis '), ('F', '2', None, 'Cholecystitis '), ('F', '2', None, 'Cholecystitis '), ('F', '2', None, 'Cholecystitis '), ('F', '2', None, 'Cholecystitis '), ('F', '2', None, 'Cholecystitis '), ('F', '2', None, 'Cholecystitis '), ('M', '2', None, 'Cholecystitis '), ('F', '2', None, 'Cholecystitis '), ('F', '2', None, 'Cholecystitis (Chronic) '), ('F', '2', None, 'Cholecystitis (Chronic) '), ('F', '2', None, 'Cholecystitis (Chronic) '), ('M', '2', None, 'Cholecystitis (Chronic) Cholelithiasis'), ('F', '2', None, 'Cholecystitis (Chronic) Cholelithiasis'), ('F', '2', None, 'Cholecystitis (Chronic) Cholesterolsis'), ('F', '2', None, 'Choledochal Cyst '), ('M', '2', None, 'Choledocholiathiasis'), ('F', '2', None, 'Choledocholiathiasis'), ('M', '2', None, 'Choledocholiathiasis'), ('M', '2', None, 'Choledocholiathiasis'), ('F', '2', None, 'Choledocholiathiasis'), ('F', '2', None, 'Choledocholiathiasis'), ('F', '2', None, 'Choledocholiathiasis '), ('F', '2', None, 'Cholelithiasis with adenomyomatous hyperplasia '), ('M', '2', None, 'Duodenal Stricture'), ('M', '2', None, 'Duodenitis'), ('F', '2', None, 'Gallbladder polyps '), ('M', '2', None, 'Gallbladder polyps '), ('M', '2', None, 'Gallbladder Porcelain'), ('M', '2', None, 'Gallstones'), ('F', '2', None, 'Gallstones'), ('F', '2', None, 'Gallstones'), ('M', '2', None, 'Gallstones'), ('F', '2', None, 'Gallstones'), ('M', '2', None, 'Gallstones'), ('F', '2', None, 'Gallstones'), ('F', '2', None, 'Gallstones'), ('F', '2', None, 'Gallstones'), ('M', '2', None, 'Gallstones'), ('M', '2', None, 'Gallstones'), ('M', '2', None, 'Gallstones'), ('F', '2', None, 'Gallstones'), ('M', '2', None, 'Gallstones'), ('F', '2', None, 'Gallstones'), ('M', '2', None, 'Gallstones'), ('F', '2', None, 'Gallstones'), ('M', '2', None, 'Gallstones'), ('M', '2', None, 'Gallstones'), ('M', '2', None, 'Gallstones'), ('F', '2', None, 'Gallstones'), ('F', '2', None, 'Gallstones '), ('F', '2', None, 'Gallstones '), ('M', '2', None, 'Gallstones - Incidental '), ('F', '2', None, 'Gallstones - Incidental '), ('F', '2', None, 'Gallstones - Incidental '), ('M', '2', None, 'Gastritis '), ('M', '2', None, 'Gastritis and Reflux '), ('F', '2', None, 'Ill defined lesion in uncinate process'), ('F', '2', None, 'Ischaemic Common Bile Duct Stricture'), ('M', '2', None, 'Pancreatitis (Pseudocyst)'), ('F', '2', None, 'Pancreatitis'), ('F', '2', None, 'Pancreatitis'), ('M', '2', None, 'Pancreatitis'), ('F', '2', None, 'Pancreatitis'), ('M', '2', None, 'Pancreatitis'), ('M', '2', None, 'Pancreatitis'), ('M', '2', None, 'Pancreatitis'), ('M', '2', None, 'Pancreatitis'), ('F', '2', None, 'Pancreatitis'), ('M', '2', None, 'Pancreatitis'), ('M', '2', None, 'Pancreatitis'), ('M', '2', None, 'Pancreatitis'), ('F', '2', None, 'Pancreatitis'), ('M', '2', None, 'Pancreatitis'), ('F', '2', None, 'Pancreatitis'), ('F', '2', None, 'Pancreatitis'), ('M', '2', None, 'Pancreatitis'), ('F', '2', None, 'Pancreatitis'), ('M', '2', None, 'Pancreatitis'), ('M', '2', None, 'Pancreatitis'), ('F', '2', None, 'Pancreatitis'), ('M', '2', None, 'Pancreatitis'), ('F', '2', None, 'Pancreatitis'), ('M', '2', None, 'Pancreatitis'), ('M', '2', None, 'Pancreatitis'), ('F', '2', None, 'Pancreatitis'), ('M', '2', None, 'Pancreatitis'), ('M', '2', None, 'Pancreatitis'), ('F', '2', None, 'Pancreatitis'), ('F', '2', None, 'Pancreatitis'), ('M', '2', None, 'Pancreatitis'), ('F', '2', None, 'Pancreatitis'), ('M', '2', None, 'Pancreatitis'), ('M', '2', None, 'Pancreatitis'), ('M', '2', None, 'Pancreatitis'), ('F', '2', None, 'Pancreatitis'), ('F', '2', None, 'Pancreatitis'), ('M', '2', None, 'Pancreatitis'), ('M', '2', None, 'Pancreatitis'), ('F', '2', None, 'Pancreatitis'), ('M', '2', None, 'Pancreatitis'), ('F', '2', None, 'Pancreatitis '), ('F', '2', None, 'Pancreatitis (Abscess)'), ('F', '2', None, 'Pancreatitis (Acute)'), ('F', '2', None, 'Pancreatitis (Alcohol-Chronic-Pseuodcyst)'), ('M', '2', None, 'Pancreatitis (Alcohol-Chronic-Pseuodcyst)'), ('M', '2', None, 'Pancreatitis (Alcohol-Chronic-Pseuodcyst)'), ('M', '2', None, 'Pancreatitis (Alcohol-Chronic-Pseuodcyst)'), ('F', '2', None, 'Pancreatitis (Alcohol-Chronic)'), ('M', '2', None, 'Pancreatitis (Alcohol-Chronic)'), ('M', '2', None, 'Pancreatitis (Alcohol-Chronic)'), ('F', '2', None, 'Pancreatitis (Alcohol-Chronic)'), ('M', '2', None, 'Pancreatitis (Alcohol-Chronic)'), ('M', '2', None, 'Pancreatitis (Alcohol-Chronic)'), ('M', '2', None, 'Pancreatitis (Alcohol-Chronic)'), ('M', '2', None, 'Pancreatitis (Alcohol-Chronic)'), ('M', '2', None, 'Pancreatitis (Alcohol-Chronic)'), ('M', '2', None, 'Pancreatitis (Alcohol-Chronic)'), ('M', '2', None, 'Pancreatitis (Alcohol-Chronic)'), ('M', '2', None, 'Pancreatitis (Alcohol)'), ('M', '2', None, 'Pancreatitis (Autoimmune) '), ('M', '2', None, 'Pancreatitis (Autoimmune) '), ('M', '2', None, 'Pancreatitis (Autoimmune) '), ('F', '2', None, 'Pancreatitis (Chronic-Pseudocyst) '), ('M', '2', None, 'Pancreatitis (Chronic-Pseudocyst) '), ('F', '2', None, 'Pancreatitis (Chronic) '), ('F', '2', None, 'Pancreatitis (Chronic) '), ('M', '2', None, 'Pancreatitis (Chronic) '), ('M', '2', None, 'Pancreatitis (Chronic) '), ('M', '2', None, 'Pancreatitis (Chronic) '), ('M', '2', None, 'Pancreatitis (Chronic) '), ('M', '2', None, 'Pancreatitis (Chronic) '), ('M', '2', None, 'Pancreatitis (Chronic) '), ('F', '2', None, 'Pancreatitis (Chronic) '), ('F', '2', None, 'Pancreatitis (Chronic) '), ('M', '2', None, 'Pancreatitis (Chronic) '), ('M', '2', None, 'Pancreatitis (Chronic) '), ('F', '2', None, 'Pancreatitis (Chronic) '), ('M', '2', None, 'Pancreatitis (Chronic) '), ('F', '2', None, 'Pancreatitis (Chronic) '), ('M', '2', None, 'Pancreatitis (Chronic) '), ('F', '2', None, 'Pancreatitis (Chronic) '), ('F', '2', None, 'Pancreatitis (Chronic) '), ('F', '2', None, 'Pancreatitis (Chronic) '), ('M', '2', None, 'Pancreatitis (Chronic) '), ('M', '2', None, 'Pancreatitis (Chronic) '), ('F', '2', None, 'Pancreatitis (Chronic) '), ('M', '2', None, 'Pancreatitis (Chronic) '), ('F', '2', None, 'Pancreatitis (Chronic) '), ('M', '2', None, 'Pancreatitis (Chronic) '), ('F', '2', None, 'Pancreatitis (Chronic) '), ('F', '2', None, 'Pancreatitis (Chronic) '), ('M', '2', None, 'Pancreatitis (Chronic) '), ('M', '2', None, 'Pancreatitis (Chronic) '), ('M', '2', None, 'Pancreatitis (Chronic) '), ('M', '2', None, 'Pancreatitis (Chronic) '), ('M', '2', None, 'Pancreatitis (Chronic) '), ('M', '2', None, 'Pancreatitis (Chronic) '), ('M', '2', None, 'Pancreatitis (Chronic) '), ('M', '2', None, 'Pancreatitis (Chronic) '), ('M', '2', None, 'Pancreatitis (Chronic) (Later became PDAC)'), ('M', '2', None, 'Pancreatitis (Chronic) Choledocholithiasis'), ('M', '2', None, 'Pancreatitis (Gallstone-Alcohol-Pseudocyst)'), ('M', '2', None, 'Pancreatitis (Gallstone-Pseudocyst)'), ('M', '2', None, 'Pancreatitis (Gallstone) '), ('F', '2', None, 'Pancreatitis (Gallstone) '), ('M', '2', None, 'Pancreatitis (Gallstone) '), ('M', '2', None, 'Pancreatitis (Gallstone) '), ('M', '2', None, 'Pancreatitis (Hereditary-Chronic) '), ('M', '2', None, 'Pancreatitis (Hypertriglyceridemia)'), ('M', '2', None, 'Pancreatitis (Idiopathic)'), ('M', '2', None, 'Pancreatitis (Idiopathic) '), ('F', '2', None, 'Pancreatitis (Idiopathic) '), ('F', '2', None, 'Pancreatitis (Idiopathic) '), ('F', '2', None, 'Pancreatitis (Idiopathic) '), ('M', '2', None, 'Pancreatitis (Pseudocyst)'), ('F', '2', None, 'Pancreatitis (Pseudocyst)'), ('M', '2', None, 'Pancreatitis (Pseudocyst)'), ('M', '2', None, 'Pancreato-jejunostomy Anastomoses Stricture'), ('F', '2', None, 'Premalignant lesions-Adenoma-NOS'), ('F', '2', None, 'Premalignant lesions-Adenoma-NOS'), ('F', '2', None, 'Premalignant lesions-Mucinous cystadenocarcinoma-noninvasive'), ('F', '2', None, 'Premalignant lesions-Mucinous cystadenoma-NOS'), ('F', '2', None, 'Premalignant lesions-Mucinous cystadenoma-NOS'), ('F', '2', None, 'Premalignant lesions-Mucinous cystadenoma-NOS'), ('M', '2', None, 'Premalignant lesions-Tubular adenoma-NOS'), ('M', '2', None, 'Premalignant lesions-Tubulovillous adenoma-NOS'), ('M', '2', None, 'Premalignant lesions-Villous adenoma-NOS'), ('F', '2', None, 'Premalignant lesions-Villous adenoma-NOS'), ('F', '2', None, 'Serous cystadenoma - NOS'), ('F', '2', None, 'Serous cystadenoma - NOS'), ('F', '2', None, 'Serous cystadenoma - NOS'), ('F', '2', None, 'Serous cystadenoma - NOS'), ('F', '2', None, 'Serous cystadenoma - NOS'), ('F', '2', None, 'Serous cystadenoma - NOS'), ('F', '2', None, 'Serous cystadenoma - NOS'), ('F', '2', None, 'Serous microcystic adenoma'), ('F', '2', None, 'Serous microcystic adenoma'), ('M', '2', None, 'Serous microcystic adenoma'), ('F', '2', None, 'Simple benign liver cyst'), ('F', '3', 'I', None), ('M', '3', 'IA', None), ('M', '3', 'IA', None), ('M', '3', 'IA', None), ('M', '3', 'IB', None), ('M', '3', 'IB', None), ('F', '3', 'IB', None), ('F', '3', 'IB', None), ('M', '3', 'IB', None), ('M', '3', 'IB', None), ('M', '3', 'IB', None), ('F', '3', 'IB', None), ('M', '3', 'IB', None), ('F', '3', 'IB', None), ('F', '3', 'IB', None), ('F', '3', 'IB', None), ('F', '3', 'II', None), ('M', '3', 'II', None), ('F', '3', 'II', None), ('M', '3', 'II', None), ('M', '3', 'II', None), ('F', '3', 'II', None), ('M', '3', 'II', None), ('M', '3', 'IIA', None), ('M', '3', 'IIA', None), ('F', '3', 'IIA', None), ('F', '3', 'IIA', None), ('F', '3', 'IIA', None), ('M', '3', 'IIA', None), ('F', '3', 'IIA', None), ('M', '3', 'IIA', None), ('M', '3', 'IIA', None), ('F', '3', 'IIA', None), ('F', '3', 'IIA', None), ('M', '3', 'IIB', None), ('F', '3', 'IIB', None), ('M', '3', 'IIB', None), ('M', '3', 'IIB', None), ('F', '3', 'IIB', None), ('M', '3', 'IIB', None), ('M', '3', 'IIB', None), ('M', '3', 'IIB', None), ('F', '3', 'IIB', None), ('F', '3', 'IIB', None), ('F', '3', 'IIB', None), ('M', '3', 'IIB', None), ('M', '3', 'IIB', None), ('F', '3', 'IIB', None), ('F', '3', 'IIB', None), ('M', '3', 'IIB', None), ('M', '3', 'IIB', None), ('F', '3', 'IIB', None), ('F', '3', 'IIB', None), ('M', '3', 'IIB', None), ('M', '3', 'IIB', None), ('F', '3', 'IIB', None), ('F', '3', 'IIB', None), ('F', '3', 'IIB', None), ('F', '3', 'IIB', None), ('F', '3', 'IIB', None), ('F', '3', 'IIB', None), ('M', '3', 'IIB', None), ('F', '3', 'IIB', None), ('M', '3', 'IIB', None), ('M', '3', 'IIB', None), ('F', '3', 'IIB', None), ('F', '3', 'IIB', None), ('M', '3', 'IIB', None), ('M', '3', 'IIB', None), ('F', '3', 'IIB', None), ('M', '3', 'IIB', None), ('M', '3', 'IIB', None), ('M', '3', 'IIB', None), ('M', '3', 'IIB', None), ('M', '3', 'IIB', None), ('M', '3', 'IIB', None), ('M', '3', 'IIB', None), ('M', '3', 'IIB', None), ('M', '3', 'IIB', None), ('M', '3', 'IIB', None), ('F', '3', 'IIB', None), ('F', '3', 'IIB', None), ('F', '3', 'IIB', None), ('F', '3', 'IIB', None), ('M', '3', 'IIB', None), ('F', '3', 'IIB', None), ('M', '3', 'IIB', None), ('M', '3', 'IIB', None), ('F', '3', 'IIB', None), ('F', '3', 'IIB', None), ('F', '3', 'IIB', None), ('F', '3', 'IIB', None), ('F', '3', 'IIB', None), ('F', '3', 'IIB', None), ('M', '3', 'IIB', None), ('M', '3', 'IIB', None), ('F', '3', 'IIB', None), ('M', '3', 'IIB', None), ('M', '3', 'IIB', None), ('F', '3', 'IIB', None), ('F', '3', 'IIB', None), ('M', '3', 'IIB', None), ('M', '3', 'III', None), ('F', '3', 'III', None), ('M', '3', 'III', None), ('F', '3', 'III', None), ('F', '3', 'III', None), ('M', '3', 'III', None), ('M', '3', 'III', None), ('M', '3', 'III', None), ('F', '3', 'III', None), ('F', '3', 'III', None), ('F', '3', 'III', None), ('F', '3', 'III', None), ('M', '3', 'III', None), ('M', '3', 'III', None), ('M', '3', 'III', None), ('M', '3', 'III', None), ('M', '3', 'III', None), ('F', '3', 'III', None), ('M', '3', 'III', None), ('F', '3', 'III', None), ('M', '3', 'III', None), ('F', '3', 'III', None), ('M', '3', 'III', None), ('M', '3', 'III', None), ('F', '3', 'III', None), ('M', '3', 'III', None), ('M', '3', 'III', None), ('M', '3', 'III', None), ('M', '3', 'III', None), ('M', '3', 'III', None), ('M', '3', 'III', None), ('M', '3', 'III', None), ('F', '3', 'III', None), ('F', '3', 'III', None), ('M', '3', 'III', None), ('F', '3', 'III', None), ('M', '3', 'III', None), ('M', '3', 'III', None), ('F', '3', 'III', None), ('M', '3', 'III', None), ('M', '3', 'III', None), ('M', '3', 'III', None), ('M', '3', 'III', None), ('M', '3', 'III', None), ('M', '3', 'III', None), ('M', '3', 'III', None), ('M', '3', 'III', None), ('M', '3', 'III', None), ('M', '3', 'III', None), ('M', '3', 'III', None), ('M', '3', 'III', None), ('F', '3', 'III', None), ('M', '3', 'III', None), ('F', '3', 'III', None), ('M', '3', 'III', None), ('F', '3', 'III', None), ('M', '3', 'III', None), ('M', '3', 'III', None), ('F', '3', 'III', None), ('F', '3', 'III', None), ('M', '3', 'III', None), ('M', '3', 'III', None), ('M', '3', 'III', None), ('M', '3', 'III', None), ('M', '3', 'III', None), ('M', '3', 'III', None), ('M', '3', 'III', None), ('F', '3', 'III', None), ('M', '3', 'III', None), ('F', '3', 'III', None), ('F', '3', 'III', None), ('M', '3', 'III', None), ('F', '3', 'III', None), ('F', '3', 'III', None), ('F', '3', 'III', None), ('F', '3', 'III', None), ('F', '3', 'IV', None), ('M', '3', 'IV', None), ('M', '3', 'IV', None), ('M', '3', 'IV', None), ('M', '3', 'IV', None), ('M', '3', 'IV', None), ('F', '3', 'IV', None), ('M', '3', 'IV', None), ('M', '3', 'IV', None), ('M', '3', 'IV', None), ('F', '3', 'IV', None), ('M', '3', 'IV', None), ('F', '3', 'IV', None), ('F', '3', 'IV', None), ('M', '3', 'IV', None), ('M', '3', 'IV', None), ('M', '3', 'IV', None), ('F', '3', 'IV', None), ('M', '3', 'IV', None), ('F', '3', 'IV', None), ('M', '3', 'IV', None)]\n"
     ]
    }
   ],
   "source": [
    "markers = Base.classes.markers\n",
    "results = session.query(markers.sex, markers.diagnosis, markers.stage, markers.benign_sample_diagnosis)\n",
    "print(results.all())"
   ]
  },
  {
   "cell_type": "code",
   "execution_count": 9,
   "id": "342fab4d",
   "metadata": {},
   "outputs": [
    {
     "data": {
      "text/html": [
       "<div>\n",
       "<style scoped>\n",
       "    .dataframe tbody tr th:only-of-type {\n",
       "        vertical-align: middle;\n",
       "    }\n",
       "\n",
       "    .dataframe tbody tr th {\n",
       "        vertical-align: top;\n",
       "    }\n",
       "\n",
       "    .dataframe thead th {\n",
       "        text-align: right;\n",
       "    }\n",
       "</style>\n",
       "<table border=\"1\" class=\"dataframe\">\n",
       "  <thead>\n",
       "    <tr style=\"text-align: right;\">\n",
       "      <th></th>\n",
       "      <th>sex</th>\n",
       "      <th>diagnosis</th>\n",
       "      <th>stage</th>\n",
       "      <th>benign_diagnosis</th>\n",
       "    </tr>\n",
       "  </thead>\n",
       "  <tbody>\n",
       "    <tr>\n",
       "      <th>0</th>\n",
       "      <td>F</td>\n",
       "      <td>1</td>\n",
       "      <td>None</td>\n",
       "      <td>None</td>\n",
       "    </tr>\n",
       "    <tr>\n",
       "      <th>1</th>\n",
       "      <td>F</td>\n",
       "      <td>1</td>\n",
       "      <td>None</td>\n",
       "      <td>None</td>\n",
       "    </tr>\n",
       "    <tr>\n",
       "      <th>2</th>\n",
       "      <td>M</td>\n",
       "      <td>1</td>\n",
       "      <td>None</td>\n",
       "      <td>None</td>\n",
       "    </tr>\n",
       "    <tr>\n",
       "      <th>3</th>\n",
       "      <td>M</td>\n",
       "      <td>1</td>\n",
       "      <td>None</td>\n",
       "      <td>None</td>\n",
       "    </tr>\n",
       "    <tr>\n",
       "      <th>4</th>\n",
       "      <td>M</td>\n",
       "      <td>1</td>\n",
       "      <td>None</td>\n",
       "      <td>None</td>\n",
       "    </tr>\n",
       "  </tbody>\n",
       "</table>\n",
       "</div>"
      ],
      "text/plain": [
       "  sex diagnosis stage benign_diagnosis\n",
       "0   F         1  None             None\n",
       "1   F         1  None             None\n",
       "2   M         1  None             None\n",
       "3   M         1  None             None\n",
       "4   M         1  None             None"
      ]
     },
     "execution_count": 9,
     "metadata": {},
     "output_type": "execute_result"
    }
   ],
   "source": [
    "df = pd.DataFrame(results, columns=['sex','diagnosis','stage','benign_diagnosis'])\n",
    "df.head()"
   ]
  },
  {
   "cell_type": "code",
   "execution_count": 10,
   "id": "e811f013",
   "metadata": {},
   "outputs": [],
   "source": [
    "diagnosis_list = [\"Control\", \"Benign Hepatobiliary Disease\", \"Pancreatic Cancer\"]\n",
    "diagnosis = df[\"diagnosis\"].unique()\n",
    "stages = df[\"stage\"].unique()\n",
    "benign_diagnosis_list = df[\"benign_diagnosis\"].unique()"
   ]
  },
  {
   "cell_type": "code",
   "execution_count": 11,
   "id": "9bcb411d",
   "metadata": {},
   "outputs": [
    {
     "name": "stdout",
     "output_type": "stream",
     "text": [
      "The dataset contains patients with the following diagnoses:\n",
      "Diagnosis 1: Control\n",
      "Diagnosis 2: Benign Hepatobiliary Disease\n",
      "Diagnosis 3: Pancreatic Cancer\n"
     ]
    }
   ],
   "source": [
    "print(\"The dataset contains patients with the following diagnoses:\")\n",
    "for i in range(0, len(diagnosis)):\n",
    "    print(f\"Diagnosis {i+1}: {diagnosis_list[i]}\")"
   ]
  },
  {
   "cell_type": "code",
   "execution_count": 12,
   "id": "b7e27f0a",
   "metadata": {},
   "outputs": [
    {
     "name": "stdout",
     "output_type": "stream",
     "text": [
      "The dataset contains patients with the following cancer stages:\n",
      "Stage I\n",
      "Stage IA\n",
      "Stage IB\n",
      "Stage II\n",
      "Stage IIA\n",
      "Stage IIB\n",
      "Stage III\n",
      "Stage IV\n"
     ]
    }
   ],
   "source": [
    "print(\"The dataset contains patients with the following cancer stages:\")\n",
    "for i in range(1, len(stages)):\n",
    "    print(f\"Stage {stages[i]}\")"
   ]
  },
  {
   "cell_type": "code",
   "execution_count": 13,
   "id": "2a6869b3",
   "metadata": {},
   "outputs": [
    {
     "name": "stdout",
     "output_type": "stream",
     "text": [
      "The dataset contains patients with the following benign hepatobiliary diagnoses:\n",
      "Diagnosis 1: Abdominal Pain \n",
      "Diagnosis 2: Biliary Stricture (Secondary to Stent) \n",
      "Diagnosis 3: Cholecystitis\n",
      "Diagnosis 4: Cholecystitis \n",
      "Diagnosis 5: Cholecystitis (Chronic) \n",
      "Diagnosis 6: Cholecystitis (Chronic) Cholelithiasis\n",
      "Diagnosis 7: Cholecystitis (Chronic) Cholesterolsis\n",
      "Diagnosis 8: Choledochal Cyst \n",
      "Diagnosis 9: Choledocholiathiasis\n",
      "Diagnosis 10: Choledocholiathiasis \n",
      "Diagnosis 11: Cholelithiasis with adenomyomatous hyperplasia \n",
      "Diagnosis 12: Duodenal Stricture\n",
      "Diagnosis 13: Duodenitis\n",
      "Diagnosis 14: Gallbladder polyps \n",
      "Diagnosis 15: Gallbladder Porcelain\n",
      "Diagnosis 16: Gallstones\n",
      "Diagnosis 17: Gallstones \n",
      "Diagnosis 18: Gallstones - Incidental \n",
      "Diagnosis 19: Gastritis \n",
      "Diagnosis 20: Gastritis and Reflux \n",
      "Diagnosis 21: Ill defined lesion in uncinate process\n",
      "Diagnosis 22: Ischaemic Common Bile Duct Stricture\n",
      "Diagnosis 23: Pancreatitis (Pseudocyst)\n",
      "Diagnosis 24: Pancreatitis\n",
      "Diagnosis 25: Pancreatitis \n",
      "Diagnosis 26: Pancreatitis (Abscess)\n",
      "Diagnosis 27: Pancreatitis (Acute)\n",
      "Diagnosis 28: Pancreatitis (Alcohol-Chronic-Pseuodcyst)\n",
      "Diagnosis 29: Pancreatitis (Alcohol-Chronic)\n",
      "Diagnosis 30: Pancreatitis (Alcohol)\n",
      "Diagnosis 31: Pancreatitis (Autoimmune) \n",
      "Diagnosis 32: Pancreatitis (Chronic-Pseudocyst) \n",
      "Diagnosis 33: Pancreatitis (Chronic) \n",
      "Diagnosis 34: Pancreatitis (Chronic) (Later became PDAC)\n",
      "Diagnosis 35: Pancreatitis (Chronic) Choledocholithiasis\n",
      "Diagnosis 36: Pancreatitis (Gallstone-Alcohol-Pseudocyst)\n",
      "Diagnosis 37: Pancreatitis (Gallstone-Pseudocyst)\n",
      "Diagnosis 38: Pancreatitis (Gallstone) \n",
      "Diagnosis 39: Pancreatitis (Hereditary-Chronic) \n",
      "Diagnosis 40: Pancreatitis (Hypertriglyceridemia)\n",
      "Diagnosis 41: Pancreatitis (Idiopathic)\n",
      "Diagnosis 42: Pancreatitis (Idiopathic) \n",
      "Diagnosis 43: Pancreato-jejunostomy Anastomoses Stricture\n",
      "Diagnosis 44: Premalignant lesions-Adenoma-NOS\n",
      "Diagnosis 45: Premalignant lesions-Mucinous cystadenocarcinoma-noninvasive\n",
      "Diagnosis 46: Premalignant lesions-Mucinous cystadenoma-NOS\n",
      "Diagnosis 47: Premalignant lesions-Tubular adenoma-NOS\n",
      "Diagnosis 48: Premalignant lesions-Tubulovillous adenoma-NOS\n",
      "Diagnosis 49: Premalignant lesions-Villous adenoma-NOS\n",
      "Diagnosis 50: Serous cystadenoma - NOS\n",
      "Diagnosis 51: Serous microcystic adenoma\n",
      "Diagnosis 52: Simple benign liver cyst\n"
     ]
    }
   ],
   "source": [
    "print(\"The dataset contains patients with the following benign hepatobiliary diagnoses:\")\n",
    "for i in range(1, len(benign_diagnosis_list)):\n",
    "    print(f\"Diagnosis {i}: {benign_diagnosis_list[i]}\")"
   ]
  }
 ],
 "metadata": {
  "kernelspec": {
   "display_name": "mlenv",
   "language": "python",
   "name": "mlenv"
  },
  "language_info": {
   "codemirror_mode": {
    "name": "ipython",
    "version": 3
   },
   "file_extension": ".py",
   "mimetype": "text/x-python",
   "name": "python",
   "nbconvert_exporter": "python",
   "pygments_lexer": "ipython3",
   "version": "3.7.13"
  }
 },
 "nbformat": 4,
 "nbformat_minor": 5
}
